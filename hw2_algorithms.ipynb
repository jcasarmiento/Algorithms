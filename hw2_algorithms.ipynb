{
 "cells": [
  {
   "attachments": {},
   "cell_type": "markdown",
   "metadata": {},
   "source": [
    "## HW2 algorithms & complexity: Insertion sort, Fibonacci, Convex Hull"
   ]
  },
  {
   "cell_type": "code",
   "execution_count": null,
   "metadata": {},
   "outputs": [],
   "source": [
    "\"\"\"\n",
    "insertion sort:\n",
    "(ascending)\n",
    "input +int array[n]\n",
    "output +int array[n]\n",
    "\n",
    "for ( i=1 ; i<n ; i++ ):                                 O(n)       --->O(n^2)\n",
    "    selection=array[i]\n",
    "    j=i-1\n",
    "    while (j>=0 && array[j]>selection):                  O(n)\n",
    "        array[j+1]=array[j]\n",
    "        j--\n",
    "    array[j+1]=selection\n",
    "\"\"\""
   ]
  },
  {
   "cell_type": "code",
   "execution_count": null,
   "metadata": {},
   "outputs": [],
   "source": [
    "\"\"\"\n",
    "Fibonacci:\n",
    "\n",
    "input n\n",
    "output fibonacci of n number\n",
    "\n",
    "array[n]\n",
    "\n",
    "for (i=0;i<n;i++):                                         O(n)\n",
    "    if i>=2:\n",
    "        array[i]=array[i-1]+array[i-2]\n",
    "    else:\n",
    "        array[i]=n\n",
    "\"\"\""
   ]
  },
  {
   "cell_type": "code",
   "execution_count": null,
   "metadata": {},
   "outputs": [],
   "source": [
    "\"\"\"\n",
    "GRAHAM-SCAN.Q/\n",
    "1 let p0 be the point in Q with the minimum y-coordinate,\n",
    "or the leftmost such point in case of a tie\n",
    "2 let hp1; p2;:::;pmi be the remaining points in Q,\n",
    "sorted by polar angle in counterclockwise order around p0\n",
    "(if more than one point has the same angle, remove all but\n",
    "the one that is farthest from p0)\n",
    "3 let S be an empty stack\n",
    "4 PUSH(p0;S)\n",
    "5 PUSH(p1;S)\n",
    "6 PUSH(p2;S)\n",
    "7 for i = 3 to m\n",
    "8    while the angle formed by points NEXT-TO-TOP(S), TOP(S), and pi makes a nonleft turn\n",
    "9        POP(S)\n",
    "10   PUSH(pi;S)\n",
    "11 return S\n",
    "\"\"\""
   ]
  },
  {
   "cell_type": "code",
   "execution_count": null,
   "metadata": {},
   "outputs": [],
   "source": [
    "\"\"\"\n",
    "Convex Hull\n",
    "\n",
    "input Q (size n)\n",
    "output S (stack)\n",
    "\n",
    "p0=q[0]\n",
    "\n",
    "for (i=1,i<n,i++):\n",
    "    if Q[n](y)==p0:\n",
    "        if Q[n](x)<p0(x):\n",
    "            p0=Q[n]\n",
    "    else if Q[n](y)<p0\n",
    "        p0=Q[n]\n",
    "\n",
    "for (i=0,i<n,i++):\n",
    "    for(j=n-1,j>i+1,j--):\n",
    "        if ang(Q[j])>ang(Q[j-1]):sort\n",
    "        if ang(Q[j])=ang(Q[j-1]):pop r(Q)>\n",
    "\n",
    "let S be an empty stack\n",
    "PUSH(p0;S)\n",
    "PUSH(p1;S)\n",
    "PUSH(p2;S)  \n",
    "                                                                   TOP(S)\n",
    "                                                                   |\\\n",
    "                                                                   | \\\n",
    "for i = 3 to m                                                N2T(S)   pi\n",
    "    \n",
    "    while the angle formed by points NEXT-TO-TOP(S), TOP(S), and pi makes a nonleft turn\n",
    "        POP(S)\n",
    "    PUSH(pi;S)\n",
    "return S\n",
    "\n",
    "\"\"\""
   ]
  },
  {
   "cell_type": "code",
   "execution_count": null,
   "metadata": {},
   "outputs": [],
   "source": []
  }
 ],
 "metadata": {
  "kernelspec": {
   "display_name": "Python 3",
   "language": "python",
   "name": "python3"
  },
  "language_info": {
   "codemirror_mode": {
    "name": "ipython",
    "version": 3
   },
   "file_extension": ".py",
   "mimetype": "text/x-python",
   "name": "python",
   "nbconvert_exporter": "python",
   "pygments_lexer": "ipython3",
   "version": "3.10.10"
  },
  "orig_nbformat": 4,
  "vscode": {
   "interpreter": {
    "hash": "112ed91ee98a6989d9d7e71eb977853a7d8456dc33f96bdb50f97ad343938d3e"
   }
  }
 },
 "nbformat": 4,
 "nbformat_minor": 2
}
