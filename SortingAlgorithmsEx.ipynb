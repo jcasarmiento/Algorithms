{
 "cells": [
  {
   "cell_type": "markdown",
   "id": "2808fdf9",
   "metadata": {},
   "source": [
    "# Sorting"
   ]
  },
  {
   "cell_type": "code",
   "execution_count": 1,
   "id": "b46b410f",
   "metadata": {},
   "outputs": [],
   "source": [
    "import time\n",
    "import numpy as np\n",
    "np.random.seed(0)"
   ]
  },
  {
   "cell_type": "code",
   "execution_count": 2,
   "id": "881e765c",
   "metadata": {},
   "outputs": [],
   "source": [
    "data = np.random.randint(1,10000,17000)"
   ]
  },
  {
   "cell_type": "markdown",
   "id": "7dbcaac0",
   "metadata": {},
   "source": [
    "### Insertion Sort"
   ]
  },
  {
   "cell_type": "code",
   "execution_count": 3,
   "id": "b04ff63f",
   "metadata": {},
   "outputs": [],
   "source": [
    "def insertion_sort(arr):\n",
    "    start = time.time()\n",
    "    for i in range(1,len(arr)):  #starts at i=1 (for (i=1,i<n,i++))\n",
    "        selection=arr[i]\n",
    "        j=i-1\n",
    "        while j >=0 and selection<arr[j]:\n",
    "            arr[j+1]=arr[j]\n",
    "            j=j-1\n",
    "        arr[j+1]=selection\n",
    "    end = time.time()\n",
    "    print(\"The time of execution of above program is :\", (end-start) * 10**3, \"ms\", \"for a size of \", len(arr))\n",
    "    return arr"
   ]
  },
  {
   "cell_type": "code",
   "execution_count": 4,
   "id": "938bce08",
   "metadata": {},
   "outputs": [
    {
     "name": "stdout",
     "output_type": "stream",
     "text": [
      "The time of execution of above program is : 51252.4139881134 ms for a size of  17000\n"
     ]
    }
   ],
   "source": [
    "arr=insertion_sort(data)"
   ]
  },
  {
   "cell_type": "code",
   "execution_count": 5,
   "id": "4a6799ab",
   "metadata": {},
   "outputs": [
    {
     "data": {
      "text/plain": [
       "array([   1,    1,    1, ..., 9999, 9999, 9999])"
      ]
     },
     "execution_count": 5,
     "metadata": {},
     "output_type": "execute_result"
    }
   ],
   "source": [
    "arr"
   ]
  },
  {
   "cell_type": "markdown",
   "id": "660c72b1",
   "metadata": {},
   "source": [
    "### Merge Sort"
   ]
  },
  {
   "cell_type": "code",
   "execution_count": 6,
   "id": "49e26c66",
   "metadata": {},
   "outputs": [],
   "source": [
    "def merge(arr,left,right):\n",
    "    #Merge, in this method I applied the actual merging.\n",
    "    #What's the complexity in space for Merge sort?\n",
    "    new_arr = np.zeros(len(arr))\n",
    "    len_left = len(left)\n",
    "    len_right = len(right)\n",
    "    ind_l=ind_r=ind_arr=0\n",
    "    while ind_l < len_left and ind_r < len_right: #after divided, go through each half and compare the number by index\n",
    "        if left[ind_l] <= right[ind_r]:   #if number in left[ind_l] is the lesser, add it to the array in pos k\n",
    "            new_arr[ind_arr] = left[ind_l]\n",
    "            ind_l += 1\n",
    "        else:\n",
    "            new_arr[ind_arr] = right[ind_r]  #if number in right[ind_r] is the lesser, add it to the array in pos k\n",
    "            ind_r += 1\n",
    "#         print(\"new_arr\",new_arr)\n",
    "        ind_arr += 1\n",
    "            \n",
    "    while ind_l < len(left):\n",
    "        new_arr[ind_arr] = left[ind_l]\n",
    "        ind_l += 1\n",
    "        ind_arr += 1\n",
    "#         print(\"new_arr\",new_arr)\n",
    "\n",
    "    while ind_r < len(right):\n",
    "        new_arr[ind_arr] = right[ind_r]\n",
    "        ind_r += 1\n",
    "        ind_arr += 1\n",
    "#         print(\"new_arr\",new_arr)\n",
    "\n",
    "    return new_arr"
   ]
  },
  {
   "cell_type": "code",
   "execution_count": 7,
   "id": "bbe7cf8e",
   "metadata": {},
   "outputs": [],
   "source": [
    "def merge_sort(arr):\n",
    "    #This method will divide the array\n",
    "    #print(arr)\n",
    "    length=len(arr)\n",
    "    if length > 1:\n",
    "        mid=length//2\n",
    "        left=merge_sort(arr[:mid])\n",
    "        right=merge_sort(arr[mid:])\n",
    "        return merge(arr,left,right)\n",
    "    else:\n",
    "        return arr"
   ]
  },
  {
   "cell_type": "code",
   "execution_count": 8,
   "id": "aed116e6",
   "metadata": {},
   "outputs": [],
   "source": [
    "#This method is just to calculate the time, if you don't need it, don't worry\n",
    "def merge_algorithm(arr):\n",
    "    start = time.time()\n",
    "    arr=merge_sort(arr)\n",
    "    end = time.time()\n",
    "    print(\"The time of execution of above program is :\", (end-start) * 10**3, \"ms\", \"for a size of \", len(arr))\n",
    "    return arr"
   ]
  },
  {
   "cell_type": "code",
   "execution_count": 9,
   "id": "b2a7dbef",
   "metadata": {},
   "outputs": [],
   "source": [
    "data = np.random.randint(1,10000,17000)"
   ]
  },
  {
   "cell_type": "code",
   "execution_count": 10,
   "id": "65df9aa5",
   "metadata": {
    "scrolled": false
   },
   "outputs": [
    {
     "name": "stdout",
     "output_type": "stream",
     "text": [
      "The time of execution of above program is : 229.19201850891113 ms for a size of  17000\n"
     ]
    },
    {
     "data": {
      "text/plain": [
       "array([1.000e+00, 3.000e+00, 4.000e+00, ..., 9.998e+03, 9.998e+03,\n",
       "       9.998e+03])"
      ]
     },
     "execution_count": 10,
     "metadata": {},
     "output_type": "execute_result"
    }
   ],
   "source": [
    "sorted_data=merge_algorithm(data)\n",
    "sorted_data"
   ]
  },
  {
   "cell_type": "markdown",
   "id": "ea786196",
   "metadata": {},
   "source": [
    "### Complexity Analysis:\n",
    "\n",
    "* Space complexity = $O(N)$\n",
    "\n",
    "The space consumed by dividing and storing the elements of the array is the total number of elements present in the array.\n",
    "\n",
    "* Time complexity = $O(n*log(n))$\n",
    "\n",
    "In the merge_sort method, the array is divided in two each time the method is called. If the total time for the size $n$ array is $cn$, this division is the equivalent to doing the number of problems by the time for each problem.\n",
    "\n",
    "The problem will be then divided into log(n) levels which can be visualized with a division tree:\n",
    "\n",
    "```\n",
    "^                 cn                      level 1: cn\n",
    "|               /    \\\n",
    "|           cn/2      cn/2                level 2: cn/2+cn/2=cn\n",
    "log(n)     /    \\     /    \\\n",
    "|       cn/4   cn/4  cn/4   cn/4          level 3: 4*cn/4=cn\n",
    "|        / \\   / \\   / \\    / \\ \n",
    "|       ...\n",
    "|      |  |  |  |  |  |  |...|  |\n",
    "v      c  c  c  c  c  c  c   c  c         c+c+c+...+c=cn\n",
    "```\n",
    "\n",
    "As the merge process has linear complexity $(n)$, for n elements, the division and merge stages will be $n*log(n)$\n",
    "\n",
    "Then, the complexity of the merge sort is $O(n*log(n))$\n"
   ]
  },
  {
   "cell_type": "markdown",
   "id": "9d4798e7",
   "metadata": {},
   "source": [
    "### Algorithm of your choice\n",
    "\n",
    "Now implement another algorithm, anyone works. Use the same size of data."
   ]
  },
  {
   "cell_type": "code",
   "execution_count": 11,
   "id": "8642b91f",
   "metadata": {},
   "outputs": [],
   "source": [
    "def partition(arr,low,high): \n",
    "    pivot=arr[high]\n",
    "    i=low-1\n",
    "    j=low\n",
    "    #print(\"partition\",f\"pivot: {pivot}\",f\"i: {i}\", f\"j: {j}\", f\"arr: {arr}\")\n",
    "    while j <= high-1:\n",
    "        if arr[j] < pivot:\n",
    "            i+=1\n",
    "            temp=arr[i]\n",
    "            arr[i]=arr[j]\n",
    "            arr[j]=temp\n",
    "        j+=1\n",
    "        #print(f\"          pivot: {pivot}\",f\"i: {i}\", f\"j: {j}\",f\"arr: {arr}\")\n",
    "        \n",
    "    temp=arr[i+1]\n",
    "    arr[i+1]=arr[high]\n",
    "    arr[high]=temp\n",
    "    return i+1"
   ]
  },
  {
   "cell_type": "code",
   "execution_count": 12,
   "id": "19e4239a",
   "metadata": {},
   "outputs": [],
   "source": [
    "def quicksort(arr,low,high):\n",
    "    if low<high:\n",
    "        #print(\"quicksort\",arr)\n",
    "        part=partition(arr,low,high)\n",
    "        quicksort(arr,low,part-1)\n",
    "        quicksort(arr,part+1,high)"
   ]
  },
  {
   "cell_type": "code",
   "execution_count": 13,
   "id": "83a96af5",
   "metadata": {},
   "outputs": [],
   "source": [
    "def quicksort_algorithm(arr):\n",
    "    start = time.time()\n",
    "    quicksort(arr,0,len(arr)-1)\n",
    "    end = time.time()\n",
    "    print(\"The time of execution of above program is :\", (end-start) * 10**3, \"ms\", \"for a size of \", len(arr))\n",
    "    return arr"
   ]
  },
  {
   "cell_type": "code",
   "execution_count": 14,
   "id": "dabf98f6",
   "metadata": {},
   "outputs": [],
   "source": [
    "data = np.random.randint(1,10000,17000)"
   ]
  },
  {
   "cell_type": "code",
   "execution_count": 15,
   "id": "0a77ff55",
   "metadata": {},
   "outputs": [
    {
     "name": "stdout",
     "output_type": "stream",
     "text": [
      "The time of execution of above program is : 208.87088775634766 ms for a size of  17000\n"
     ]
    },
    {
     "data": {
      "text/plain": [
       "array([   1,    1,    2, ..., 9996, 9998, 9998])"
      ]
     },
     "execution_count": 15,
     "metadata": {},
     "output_type": "execute_result"
    }
   ],
   "source": [
    "quicksort_algorithm(data)"
   ]
  },
  {
   "cell_type": "markdown",
   "id": "7a20750b",
   "metadata": {},
   "source": [
    "### Conclusions\n",
    "\n",
    "So, the algorithm matters! Even when the result is the same, the time it takes is important. We are in the era of Big Data, if we are not careful, some processing might take centuries!"
   ]
  }
 ],
 "metadata": {
  "kernelspec": {
   "display_name": "asesoftware",
   "language": "python",
   "name": "asesoftware"
  },
  "language_info": {
   "codemirror_mode": {
    "name": "ipython",
    "version": 3
   },
   "file_extension": ".py",
   "mimetype": "text/x-python",
   "name": "python",
   "nbconvert_exporter": "python",
   "pygments_lexer": "ipython3",
   "version": "3.10.9"
  },
  "vscode": {
   "interpreter": {
    "hash": "6922ffe1be38fbb49f4127e4d5590be06a6d5364ec31e373a2535b56d8bf0948"
   }
  }
 },
 "nbformat": 4,
 "nbformat_minor": 5
}
